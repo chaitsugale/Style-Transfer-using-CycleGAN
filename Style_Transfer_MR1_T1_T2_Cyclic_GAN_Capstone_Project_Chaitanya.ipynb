{
  "nbformat": 4,
  "nbformat_minor": 0,
  "metadata": {
    "colab": {
      "name": "Style_Transfer_MR1_T1_T2_Cyclic_GAN_Capstone_Project_Chaitanya",
      "provenance": [],
      "collapsed_sections": [],
      "authorship_tag": "ABX9TyMPP3p3eUS4cNoxY+GOsysa",
      "include_colab_link": true
    },
    "kernelspec": {
      "name": "python3",
      "display_name": "Python 3"
    },
    "language_info": {
      "name": "python"
    }
  },
  "cells": [
    {
      "cell_type": "markdown",
      "metadata": {
        "id": "view-in-github",
        "colab_type": "text"
      },
      "source": [
        "<a href=\"https://colab.research.google.com/github/chaitsugale/Style-Transfer-using-CycleGAN/blob/main/Style_Transfer_MR1_T1_T2_Cyclic_GAN_Capstone_Project_Chaitanya.ipynb\" target=\"_parent\"><img src=\"https://colab.research.google.com/assets/colab-badge.svg\" alt=\"Open In Colab\"/></a>"
      ]
    },
    {
      "cell_type": "markdown",
      "source": [
        "# Style Transfer Using Cyclic GAN Capstone Project"
      ],
      "metadata": {
        "id": "cRQE4Tz_WE0q"
      }
    },
    {
      "cell_type": "markdown",
      "source": [
        "### By: Chaitanya Ugale"
      ],
      "metadata": {
        "id": "OWvkOBaTW8dZ"
      }
    },
    {
      "cell_type": "markdown",
      "source": [
        "**Background** :\n",
        "\n",
        "Misdiagnosis in the medical field is a very serious issue but it’s also uncomfortably common to occur. Imaging procedures in the medical field requires an expert radiologist’s opinion since interpreting them is not a simple binary process ( Normal or Abnormal). Even so, one radiologist may see something that another does not. This can lead to conflicting reports and make it difficult to effectively recommend treatment options to the patient.\n",
        "\n",
        "One of the complicated tasks in medical imaging is to diagnose MRI(Magnetic Resonance Imaging). Sometimes to interpret the scan, the radiologist needs different variations of the imaging which can drastically enhance the accuracy of diagnosis by providing practitioners with a more comprehensive understanding.\n",
        "\n",
        "But to have access to different imaging is difficult and expensive. With the help of deep learning, we can use style transfer to generate artificial MRI images of different contrast levels from existing MRI scans. This will help to provide a better diagnosis with the help of an additional image."
      ],
      "metadata": {
        "id": "2HY5K4h0XFty"
      }
    },
    {
      "cell_type": "markdown",
      "source": [
        "**Problem Statement :**\n",
        "\n",
        "To build a Generative adversarial model(modified U-Net) which can generate artificial MRI images of different contrast levels from existing MRI scans."
      ],
      "metadata": {
        "id": "kEwGtX7AYZWi"
      }
    },
    {
      "cell_type": "markdown",
      "source": [
        "### Importing Packages"
      ],
      "metadata": {
        "id": "CPVrCyq0ZHSA"
      }
    },
    {
      "cell_type": "code",
      "source": [
        "# Importing all the required libraries\n",
        "\n",
        "import pandas as pd\n",
        "import numpy as np\n",
        "import matplotlib.pyplot as plt\n",
        "from skimage.transform import resize\n",
        "import imageio\n",
        "import glob\n",
        "import cv2\n",
        "import pathlib\n",
        "\n",
        "# importinf tensorflow libraries\n",
        "\n",
        "import tensorflow as tf\n",
        "from tensorflow import keras\n",
        "from tensorflow.keras import layers,Sequential,optimizers,metrics,Model\n",
        "from tensorflow.keras.utils import image_dataset_from_directory\n",
        "from tensorflow.keras.utils import plot_model\n",
        "from tensorflow.keras.layers import Dense,Dropout,BatchNormalization,Activation,Flatten,Conv2D,Conv2DTranspose\n",
        "from keras.utils.vis_utils import plot_model"
      ],
      "metadata": {
        "id": "Pq3SeaV6ZNoS"
      },
      "execution_count": 3,
      "outputs": []
    },
    {
      "cell_type": "code",
      "source": [
        "#loading the package for google drive\n",
        "\n",
        "from google.colab import drive\n",
        "\n",
        "#mounting content from google drive\n",
        "drive.mount('/content/gdrive')"
      ],
      "metadata": {
        "colab": {
          "base_uri": "https://localhost:8080/"
        },
        "id": "vhPQAr-5d2IM",
        "outputId": "e580a7d3-5338-4e7c-e480-ea3200c576c6"
      },
      "execution_count": 4,
      "outputs": [
        {
          "output_type": "stream",
          "name": "stdout",
          "text": [
            "Mounted at /content/gdrive\n"
          ]
        }
      ]
    },
    {
      "cell_type": "code",
      "source": [
        "#unzipping the file\n",
        "\n",
        "!unrar x \"gdrive/MyDrive/MRI+T1_T2+Dataset.RAR\" \"/content/gdrive/MyDrive/\"\n",
        "\n",
        "#!unzip gdrive/MyDrive/MRI+T1_T2+Dataset -d '/content/gdrive/MyDrive/'"
      ],
      "metadata": {
        "colab": {
          "base_uri": "https://localhost:8080/"
        },
        "id": "iH8zOfxYgZEV",
        "outputId": "10758593-088b-42ea-c9e8-286ce10d08d1"
      },
      "execution_count": 7,
      "outputs": [
        {
          "output_type": "stream",
          "name": "stdout",
          "text": [
            "\n",
            "UNRAR 5.50 freeware      Copyright (c) 1993-2017 Alexander Roshal\n",
            "\n",
            "\n",
            "Extracting from gdrive/MyDrive/MRI+T1_T2+Dataset.RAR\n",
            "\n",
            "Creating    /content/gdrive/MyDrive/Tr1                               OK\n",
            "Extracting  /content/gdrive/MyDrive/Tr1/.DS_Store                        \b\b\b\b  0%\b\b\b\b\b  OK \n",
            "Creating    /content/gdrive/MyDrive/Tr1/TrainT1                       OK\n",
            "Extracting  /content/gdrive/MyDrive/Tr1/TrainT1/Image #10.png            \b\b\b\b  1%\b\b\b\b\b  OK \n",
            "Extracting  /content/gdrive/MyDrive/Tr1/TrainT1/Image #11.png            \b\b\b\b  2%\b\b\b\b\b  OK \n",
            "Extracting  /content/gdrive/MyDrive/Tr1/TrainT1/Image #12.png            \b\b\b\b  3%\b\b\b\b\b  OK \n",
            "Extracting  /content/gdrive/MyDrive/Tr1/TrainT1/Image #13.png            \b\b\b\b  4%\b\b\b\b\b  OK \n",
            "Extracting  /content/gdrive/MyDrive/Tr1/TrainT1/Image #14.png            \b\b\b\b  5%\b\b\b\b\b  OK \n",
            "Extracting  /content/gdrive/MyDrive/Tr1/TrainT1/Image #15.png            \b\b\b\b  6%\b\b\b\b\b  OK \n",
            "Extracting  /content/gdrive/MyDrive/Tr1/TrainT1/Image #16.png            \b\b\b\b  7%\b\b\b\b\b  OK \n",
            "Extracting  /content/gdrive/MyDrive/Tr1/TrainT1/Image #17.png            \b\b\b\b  8%\b\b\b\b\b  OK \n",
            "Extracting  /content/gdrive/MyDrive/Tr1/TrainT1/Image #18.png            \b\b\b\b  9%\b\b\b\b\b  OK \n",
            "Extracting  /content/gdrive/MyDrive/Tr1/TrainT1/Image #19.png            \b\b\b\b 10%\b\b\b\b\b  OK \n",
            "Extracting  /content/gdrive/MyDrive/Tr1/TrainT1/Image #23.png            \b\b\b\b 12%\b\b\b\b\b  OK \n",
            "Extracting  /content/gdrive/MyDrive/Tr1/TrainT1/Image #24.png            \b\b\b\b 13%\b\b\b\b\b  OK \n",
            "Extracting  /content/gdrive/MyDrive/Tr1/TrainT1/Image #25.png            \b\b\b\b 14%\b\b\b\b\b  OK \n",
            "Extracting  /content/gdrive/MyDrive/Tr1/TrainT1/Image #26.png            \b\b\b\b 15%\b\b\b\b\b  OK \n",
            "Extracting  /content/gdrive/MyDrive/Tr1/TrainT1/Image #27.png            \b\b\b\b 16%\b\b\b\b\b  OK \n",
            "Extracting  /content/gdrive/MyDrive/Tr1/TrainT1/Image #28.png            \b\b\b\b 17%\b\b\b\b\b  OK \n",
            "Extracting  /content/gdrive/MyDrive/Tr1/TrainT1/Image #29.png            \b\b\b\b 18%\b\b\b\b\b  OK \n",
            "Extracting  /content/gdrive/MyDrive/Tr1/TrainT1/Image #30.png            \b\b\b\b 19%\b\b\b\b\b  OK \n",
            "Extracting  /content/gdrive/MyDrive/Tr1/TrainT1/Image #31.png            \b\b\b\b 20%\b\b\b\b\b  OK \n",
            "Extracting  /content/gdrive/MyDrive/Tr1/TrainT1/Image #32.png            \b\b\b\b 21%\b\b\b\b\b  OK \n",
            "Extracting  /content/gdrive/MyDrive/Tr1/TrainT1/Image #33.png            \b\b\b\b 22%\b\b\b\b\b  OK \n",
            "Extracting  /content/gdrive/MyDrive/Tr1/TrainT1/Image #34.png            \b\b\b\b 23%\b\b\b\b\b  OK \n",
            "Extracting  /content/gdrive/MyDrive/Tr1/TrainT1/Image #35.png            \b\b\b\b 24%\b\b\b\b\b  OK \n",
            "Extracting  /content/gdrive/MyDrive/Tr1/TrainT1/Image #36.png            \b\b\b\b 25%\b\b\b\b\b  OK \n",
            "Extracting  /content/gdrive/MyDrive/Tr1/TrainT1/Image #37.png            \b\b\b\b 26%\b\b\b\b\b  OK \n",
            "Extracting  /content/gdrive/MyDrive/Tr1/TrainT1/Image #38.png            \b\b\b\b 27%\b\b\b\b\b  OK \n",
            "Extracting  /content/gdrive/MyDrive/Tr1/TrainT1/Image #39.png            \b\b\b\b 28%\b\b\b\b\b  OK \n",
            "Extracting  /content/gdrive/MyDrive/Tr1/TrainT1/Image #40.png            \b\b\b\b 29%\b\b\b\b\b  OK \n",
            "Extracting  /content/gdrive/MyDrive/Tr1/TrainT1/Image #41.png            \b\b\b\b 30%\b\b\b\b\b  OK \n",
            "Extracting  /content/gdrive/MyDrive/Tr1/TrainT1/Image #42.png            \b\b\b\b 31%\b\b\b\b\b  OK \n",
            "Extracting  /content/gdrive/MyDrive/Tr1/TrainT1/Image #43.png            \b\b\b\b 32%\b\b\b\b\b  OK \n",
            "Extracting  /content/gdrive/MyDrive/Tr1/TrainT1/Image #44.png            \b\b\b\b 32%\b\b\b\b\b  OK \n",
            "Extracting  /content/gdrive/MyDrive/Tr1/TrainT1/Image #45.png            \b\b\b\b 33%\b\b\b\b\b  OK \n",
            "Extracting  /content/gdrive/MyDrive/Tr1/TrainT1/Image #46.png            \b\b\b\b 34%\b\b\b\b\b  OK \n",
            "Extracting  /content/gdrive/MyDrive/Tr1/TrainT1/Image #47.png            \b\b\b\b 35%\b\b\b\b\b  OK \n",
            "Extracting  /content/gdrive/MyDrive/Tr1/TrainT1/Image #48.png            \b\b\b\b 36%\b\b\b\b\b  OK \n",
            "Extracting  /content/gdrive/MyDrive/Tr1/TrainT1/Image #49.png            \b\b\b\b 37%\b\b\b\b\b  OK \n",
            "Extracting  /content/gdrive/MyDrive/Tr1/TrainT1/Image #50.png            \b\b\b\b 38%\b\b\b\b\b  OK \n",
            "Extracting  /content/gdrive/MyDrive/Tr1/TrainT1/Image #51.png            \b\b\b\b 39%\b\b\b\b\b  OK \n",
            "Extracting  /content/gdrive/MyDrive/Tr1/TrainT1/Image #52.png            \b\b\b\b 40%\b\b\b\b\b  OK \n",
            "Extracting  /content/gdrive/MyDrive/Tr1/TrainT1/Image #53.png            \b\b\b\b 41%\b\b\b\b\b  OK \n",
            "Extracting  /content/gdrive/MyDrive/Tr1/TrainT1/Image #54.png            \b\b\b\b 42%\b\b\b\b\b  OK \n",
            "Extracting  /content/gdrive/MyDrive/Tr1/TrainT1/Image #55.png            \b\b\b\b 42%\b\b\b\b\b  OK \n",
            "Creating    /content/gdrive/MyDrive/Tr2                               OK\n",
            "Extracting  /content/gdrive/MyDrive/Tr2/.DS_Store                        \b\b\b\b 42%\b\b\b\b\b  OK \n",
            "Creating    /content/gdrive/MyDrive/Tr2/TrainT2                       OK\n",
            "Extracting  /content/gdrive/MyDrive/Tr2/TrainT2/Image #100.png           \b\b\b\b 44%\b\b\b\b\b  OK \n",
            "Extracting  /content/gdrive/MyDrive/Tr2/TrainT2/Image #111.png           \b\b\b\b 45%\b\b\b\b\b  OK \n",
            "Extracting  /content/gdrive/MyDrive/Tr2/TrainT2/Image #112.png           \b\b\b\b 46%\b\b\b\b\b  OK \n",
            "Extracting  /content/gdrive/MyDrive/Tr2/TrainT2/Image #113.png           \b\b\b\b 47%\b\b\b\b\b  OK \n",
            "Extracting  /content/gdrive/MyDrive/Tr2/TrainT2/Image #114.png           \b\b\b\b 48%\b\b\b\b\b  OK \n",
            "Extracting  /content/gdrive/MyDrive/Tr2/TrainT2/Image #115.png           \b\b\b\b 50%\b\b\b\b\b  OK \n",
            "Extracting  /content/gdrive/MyDrive/Tr2/TrainT2/Image #116.png           \b\b\b\b 51%\b\b\b\b\b  OK \n",
            "Extracting  /content/gdrive/MyDrive/Tr2/TrainT2/Image #117.png           \b\b\b\b 52%\b\b\b\b\b  OK \n",
            "Extracting  /content/gdrive/MyDrive/Tr2/TrainT2/Image #118.png           \b\b\b\b 53%\b\b\b\b\b  OK \n",
            "Extracting  /content/gdrive/MyDrive/Tr2/TrainT2/Image #119.png           \b\b\b\b 54%\b\b\b\b\b  OK \n",
            "Extracting  /content/gdrive/MyDrive/Tr2/TrainT2/Image #120.png           \b\b\b\b 55%\b\b\b\b\b  OK \n",
            "Extracting  /content/gdrive/MyDrive/Tr2/TrainT2/Image #121.png           \b\b\b\b 57%\b\b\b\b\b  OK \n",
            "Extracting  /content/gdrive/MyDrive/Tr2/TrainT2/Image #122.png           \b\b\b\b 58%\b\b\b\b\b  OK \n",
            "Extracting  /content/gdrive/MyDrive/Tr2/TrainT2/Image #123.png           \b\b\b\b 59%\b\b\b\b\b  OK \n",
            "Extracting  /content/gdrive/MyDrive/Tr2/TrainT2/Image #124.png           \b\b\b\b 60%\b\b\b\b\b  OK \n",
            "Extracting  /content/gdrive/MyDrive/Tr2/TrainT2/Image #125.png           \b\b\b\b 61%\b\b\b\b\b  OK \n",
            "Extracting  /content/gdrive/MyDrive/Tr2/TrainT2/Image #70.png            \b\b\b\b 62%\b\b\b\b\b  OK \n",
            "Extracting  /content/gdrive/MyDrive/Tr2/TrainT2/Image #71.png            \b\b\b\b 64%\b\b\b\b\b  OK \n",
            "Extracting  /content/gdrive/MyDrive/Tr2/TrainT2/Image #72.png            \b\b\b\b 65%\b\b\b\b\b  OK \n",
            "Extracting  /content/gdrive/MyDrive/Tr2/TrainT2/Image #73.png            \b\b\b\b 66%\b\b\b\b\b  OK \n",
            "Extracting  /content/gdrive/MyDrive/Tr2/TrainT2/Image #74.png            \b\b\b\b 68%\b\b\b\b\b  OK \n",
            "Extracting  /content/gdrive/MyDrive/Tr2/TrainT2/Image #75.png            \b\b\b\b 69%\b\b\b\b\b  OK \n",
            "Extracting  /content/gdrive/MyDrive/Tr2/TrainT2/Image #76.png            \b\b\b\b 70%\b\b\b\b\b  OK \n",
            "Extracting  /content/gdrive/MyDrive/Tr2/TrainT2/Image #77.png            \b\b\b\b 72%\b\b\b\b\b  OK \n",
            "Extracting  /content/gdrive/MyDrive/Tr2/TrainT2/Image #78.png            \b\b\b\b 73%\b\b\b\b\b  OK \n",
            "Extracting  /content/gdrive/MyDrive/Tr2/TrainT2/Image #79.png            \b\b\b\b 74%\b\b\b\b\b  OK \n",
            "Extracting  /content/gdrive/MyDrive/Tr2/TrainT2/Image #80.png            \b\b\b\b 76%\b\b\b\b\b  OK \n",
            "Extracting  /content/gdrive/MyDrive/Tr2/TrainT2/Image #81.png            \b\b\b\b 77%\b\b\b\b\b  OK \n",
            "Extracting  /content/gdrive/MyDrive/Tr2/TrainT2/Image #82.png            \b\b\b\b 78%\b\b\b\b\b  OK \n",
            "Extracting  /content/gdrive/MyDrive/Tr2/TrainT2/Image #83.png            \b\b\b\b 79%\b\b\b\b\b  OK \n",
            "Extracting  /content/gdrive/MyDrive/Tr2/TrainT2/Image #84.png            \b\b\b\b 81%\b\b\b\b\b  OK \n",
            "Extracting  /content/gdrive/MyDrive/Tr2/TrainT2/Image #85.png            \b\b\b\b 82%\b\b\b\b\b  OK \n",
            "Extracting  /content/gdrive/MyDrive/Tr2/TrainT2/Image #86.png            \b\b\b\b 83%\b\b\b\b\b  OK \n",
            "Extracting  /content/gdrive/MyDrive/Tr2/TrainT2/Image #87.png            \b\b\b\b 85%\b\b\b\b\b  OK \n",
            "Extracting  /content/gdrive/MyDrive/Tr2/TrainT2/Image #88.png            \b\b\b\b 86%\b\b\b\b\b  OK \n",
            "Extracting  /content/gdrive/MyDrive/Tr2/TrainT2/Image #89.png            \b\b\b\b 87%\b\b\b\b\b  OK \n",
            "Extracting  /content/gdrive/MyDrive/Tr2/TrainT2/Image #90.png            \b\b\b\b 88%\b\b\b\b\b  OK \n",
            "Extracting  /content/gdrive/MyDrive/Tr2/TrainT2/Image #91.png            \b\b\b\b 90%\b\b\b\b\b  OK \n",
            "Extracting  /content/gdrive/MyDrive/Tr2/TrainT2/Image #92.png            \b\b\b\b 91%\b\b\b\b\b  OK \n",
            "Extracting  /content/gdrive/MyDrive/Tr2/TrainT2/Image #93.png            \b\b\b\b 92%\b\b\b\b\b  OK \n",
            "Extracting  /content/gdrive/MyDrive/Tr2/TrainT2/Image #94.png            \b\b\b\b 93%\b\b\b\b\b  OK \n",
            "Extracting  /content/gdrive/MyDrive/Tr2/TrainT2/Image #95.png            \b\b\b\b 94%\b\b\b\b\b  OK \n",
            "Extracting  /content/gdrive/MyDrive/Tr2/TrainT2/Image #96.png            \b\b\b\b 96%\b\b\b\b\b  OK \n",
            "Extracting  /content/gdrive/MyDrive/Tr2/TrainT2/Image #97.png            \b\b\b\b 97%\b\b\b\b\b  OK \n",
            "Extracting  /content/gdrive/MyDrive/Tr2/TrainT2/Image #98.png            \b\b\b\b 98%\b\b\b\b\b  OK \n",
            "Extracting  /content/gdrive/MyDrive/Tr2/TrainT2/Image #99.png            \b\b\b\b 99%\b\b\b\b\b  OK \n",
            "All OK\n"
          ]
        }
      ]
    },
    {
      "cell_type": "markdown",
      "source": [
        "Counts of File"
      ],
      "metadata": {
        "id": "yqxJupbngpCr"
      }
    },
    {
      "cell_type": "code",
      "source": [
        ""
      ],
      "metadata": {
        "id": "C0Uz8qlpiBc_"
      },
      "execution_count": null,
      "outputs": []
    }
  ]
}